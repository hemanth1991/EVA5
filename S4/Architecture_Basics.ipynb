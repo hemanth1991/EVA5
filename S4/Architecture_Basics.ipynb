{
 "cells": [
  {
   "cell_type": "code",
   "execution_count": 1,
   "metadata": {
    "colab": {},
    "colab_type": "code",
    "id": "0m2JWFliFfKT"
   },
   "outputs": [],
   "source": [
    "#importing the Pytorch Libraries\n",
    "from __future__ import print_function\n",
    "import torch\n",
    "import torch.nn as nn\n",
    "import torch.nn.functional as F\n",
    "import torch.optim as optim\n",
    "from torchvision import datasets, transforms"
   ]
  },
  {
   "cell_type": "code",
   "execution_count": 7,
   "metadata": {
    "colab": {},
    "colab_type": "code",
    "id": "h_Cx9q2QFgM7"
   },
   "outputs": [],
   "source": [
    "#Model Architecture\n",
    "class Net(nn.Module):\n",
    "    def __init__(self):\n",
    "        \"\"\" This function instantiates all the model layers \"\"\"\n",
    "        super(Net, self).__init__()\n",
    "        self.conv1 = nn.Conv2d(1, 16, 3)               # Input: 28*28*1   OUtput:26*26*16 | RF:3*3\n",
    "        self.normalisation1=nn.BatchNorm2d(16)\n",
    "        self.dropout1 = nn.Dropout(0.15)\n",
    "        \n",
    "        self.conv2 = nn.Conv2d(16, 16, 3)            # Input: 26*26*1   OUtput:24*24*16 | RF:5*5\n",
    "        self.normalisation2=nn.BatchNorm2d(16)\n",
    "        self.dropout2 = nn.Dropout(0.15)\n",
    "        \n",
    "        self.conv3 = nn.Conv2d(16, 16, 3)          # Input: 24*24*1   OUtput:22*22*16 | RF:7*7\n",
    "        self.normalisation3=nn.BatchNorm2d(16)\n",
    "        \n",
    "        self.pool = nn.MaxPool2d(2, 2)             # Input: 22*22*16   OUtput:11*11*16 | RF:14*14\n",
    "        \n",
    "        self.conv4 = nn.Conv2d(16, 16, 3)         # Input: 11*11*16   OUtput:9*9*16 | RF:16*16\n",
    "        self.normalisation4=nn.BatchNorm2d(16)\n",
    "        self.dropout3 = nn.Dropout(0.15)\n",
    "        \n",
    "        self.conv5 = nn.Conv2d(16,16, 3)          # Input: 9*9*16   OUtput:7*7*16 | RF:18*18\n",
    "        self.normalisation5=nn.BatchNorm2d(16)\n",
    "        self.dropout4 = nn.Dropout(0.2)\n",
    "        \n",
    "        self.conv6 = nn.Conv2d(16, 10, 3)         # Input: 7*7*1   OUtput:5*5*16 | RF:20*20\n",
    "        self.gap = nn.AdaptiveAvgPool2d(1)\n",
    "        \n",
    "\n",
    "    def forward(self, x):\n",
    "        x = self.normalisation1(F.relu(self.conv1(x)))\n",
    "        x = self.dropout2(self.normalisation2(F.relu(self.conv2(x))))\n",
    "        x = self.pool(self.normalisation3(F.relu(self.conv3(x))))\n",
    "        x = self.dropout3(self.normalisation4(F.relu(self.conv4(x))))\n",
    "        x = self.dropout4(self.normalisation5(F.relu(self.conv5(x))))\n",
    "        x = F.relu(self.conv6(x))\n",
    "        x = self.gap(x)\n",
    "        x = x.view(-1, 10)\n",
    "        return F.log_softmax(x)"
   ]
  },
  {
   "cell_type": "code",
   "execution_count": 8,
   "metadata": {
    "colab": {},
    "colab_type": "code",
    "id": "xdydjYTZFyi3",
    "scrolled": true
   },
   "outputs": [
    {
     "name": "stdout",
     "output_type": "stream",
     "text": [
      "Requirement already satisfied: torchsummary in c:\\users\\nei3kor\\appdata\\local\\programs\\python\\python36\\lib\\site-packages (1.5.1)\n",
      "----------------------------------------------------------------\n",
      "        Layer (type)               Output Shape         Param #\n",
      "================================================================\n",
      "            Conv2d-1           [-1, 16, 26, 26]             160\n",
      "       BatchNorm2d-2           [-1, 16, 26, 26]              32\n",
      "            Conv2d-3           [-1, 16, 24, 24]           2,320\n",
      "       BatchNorm2d-4           [-1, 16, 24, 24]              32\n",
      "           Dropout-5           [-1, 16, 24, 24]               0\n",
      "            Conv2d-6           [-1, 16, 22, 22]           2,320\n",
      "       BatchNorm2d-7           [-1, 16, 22, 22]              32\n",
      "         MaxPool2d-8           [-1, 16, 11, 11]               0\n",
      "            Conv2d-9             [-1, 16, 9, 9]           2,320\n",
      "      BatchNorm2d-10             [-1, 16, 9, 9]              32\n",
      "          Dropout-11             [-1, 16, 9, 9]               0\n",
      "           Conv2d-12             [-1, 16, 7, 7]           2,320\n",
      "      BatchNorm2d-13             [-1, 16, 7, 7]              32\n",
      "          Dropout-14             [-1, 16, 7, 7]               0\n",
      "           Conv2d-15             [-1, 10, 5, 5]           1,450\n",
      "AdaptiveAvgPool2d-16             [-1, 10, 1, 1]               0\n",
      "================================================================\n",
      "Total params: 11,050\n",
      "Trainable params: 11,050\n",
      "Non-trainable params: 0\n",
      "----------------------------------------------------------------\n",
      "Input size (MB): 0.00\n",
      "Forward/backward pass size (MB): 0.56\n",
      "Params size (MB): 0.04\n",
      "Estimated Total Size (MB): 0.60\n",
      "----------------------------------------------------------------\n"
     ]
    },
    {
     "name": "stderr",
     "output_type": "stream",
     "text": [
      "WARNING: You are using pip version 20.1.1; however, version 20.2.2 is available.\n",
      "You should consider upgrading via the 'c:\\users\\nei3kor\\appdata\\local\\programs\\python\\python36\\python.exe -m pip install --upgrade pip' command.\n",
      "c:\\users\\nei3kor\\appdata\\local\\programs\\python\\python36\\lib\\site-packages\\ipykernel_launcher.py:40: UserWarning: Implicit dimension choice for log_softmax has been deprecated. Change the call to include dim=X as an argument.\n"
     ]
    }
   ],
   "source": [
    "!pip install torchsummary\n",
    "from torchsummary import summary\n",
    "use_cuda = torch.cuda.is_available()\n",
    "device = torch.device(\"cuda\" if use_cuda else \"cpu\")\n",
    "model = Net().to(device)\n",
    "summary(model, input_size=(1, 28, 28))"
   ]
  },
  {
   "cell_type": "code",
   "execution_count": 9,
   "metadata": {
    "colab": {},
    "colab_type": "code",
    "id": "DqTWLaM5GHgH"
   },
   "outputs": [],
   "source": [
    "\n",
    "\n",
    "torch.manual_seed(1)\n",
    "batch_size = 64\n",
    "\n",
    "kwargs = {'num_workers': 1, 'pin_memory': True} if use_cuda else {}\n",
    "train_loader = torch.utils.data.DataLoader(\n",
    "    datasets.MNIST('../data', train=True, download=True,\n",
    "                    transform=transforms.Compose([\n",
    "                        transforms.ToTensor(),\n",
    "                        transforms.Normalize((0.1307,), (0.3081,))\n",
    "                    ])),\n",
    "    batch_size=batch_size, shuffle=True, **kwargs)\n",
    "test_loader = torch.utils.data.DataLoader(\n",
    "    datasets.MNIST('../data', train=False, transform=transforms.Compose([\n",
    "                        transforms.ToTensor(),\n",
    "                        transforms.Normalize((0.1307,), (0.3081,))\n",
    "                    ])),\n",
    "    batch_size=batch_size, shuffle=True, **kwargs)\n"
   ]
  },
  {
   "cell_type": "code",
   "execution_count": 10,
   "metadata": {
    "colab": {},
    "colab_type": "code",
    "id": "8fDefDhaFlwH"
   },
   "outputs": [],
   "source": [
    "from tqdm import tqdm\n",
    "def train(model, device, train_loader, optimizer, epoch):\n",
    "    model.train()\n",
    "    pbar = tqdm(train_loader)\n",
    "    for batch_idx, (data, target) in enumerate(pbar):\n",
    "        data, target = data.to(device), target.to(device)\n",
    "        optimizer.zero_grad()\n",
    "        output = model(data)\n",
    "        loss = F.nll_loss(output, target)\n",
    "        loss.backward()\n",
    "        optimizer.step()\n",
    "        pbar.set_description(desc= f'loss={loss.item()} batch_id={batch_idx}')\n",
    "\n",
    "\n",
    "def test(model, device, test_loader):\n",
    "    model.eval()\n",
    "    test_loss = 0\n",
    "    correct = 0\n",
    "    with torch.no_grad():\n",
    "        for data, target in test_loader:\n",
    "            data, target = data.to(device), target.to(device)\n",
    "            output = model(data)\n",
    "            test_loss += F.nll_loss(output, target, reduction='sum').item()  # sum up batch loss\n",
    "            pred = output.argmax(dim=1, keepdim=True)  # get the index of the max log-probability\n",
    "            correct += pred.eq(target.view_as(pred)).sum().item()\n",
    "\n",
    "    test_loss /= len(test_loader.dataset)\n",
    "\n",
    "    print('\\nTest set: Average loss: {:.4f}, Accuracy: {}/{} ({:.2f}%)\\n'.format(\n",
    "        test_loss, correct, len(test_loader.dataset),\n",
    "        100. * correct / len(test_loader.dataset)))"
   ]
  },
  {
   "cell_type": "code",
   "execution_count": 11,
   "metadata": {
    "colab": {},
    "colab_type": "code",
    "id": "MMWbLWO6FuHb"
   },
   "outputs": [
    {
     "name": "stderr",
     "output_type": "stream",
     "text": [
      "  0%|                                                                                          | 0/938 [00:00<?, ?it/s]c:\\users\\nei3kor\\appdata\\local\\programs\\python\\python36\\lib\\site-packages\\ipykernel_launcher.py:40: UserWarning: Implicit dimension choice for log_softmax has been deprecated. Change the call to include dim=X as an argument.\n",
      "loss=0.03272871673107147 batch_id=937: 100%|█████████████████████████████████████████| 938/938 [00:18<00:00, 50.71it/s]\n",
      "  0%|                                                                                          | 0/938 [00:00<?, ?it/s]"
     ]
    },
    {
     "name": "stdout",
     "output_type": "stream",
     "text": [
      "\n",
      "Test set: Average loss: 0.0664, Accuracy: 9815/10000 (98.15%)\n",
      "\n"
     ]
    },
    {
     "name": "stderr",
     "output_type": "stream",
     "text": [
      "loss=0.08674412965774536 batch_id=937: 100%|█████████████████████████████████████████| 938/938 [00:20<00:00, 44.85it/s]\n",
      "  0%|                                                                                          | 0/938 [00:00<?, ?it/s]"
     ]
    },
    {
     "name": "stdout",
     "output_type": "stream",
     "text": [
      "\n",
      "Test set: Average loss: 0.0372, Accuracy: 9883/10000 (98.83%)\n",
      "\n"
     ]
    },
    {
     "name": "stderr",
     "output_type": "stream",
     "text": [
      "loss=0.029422253370285034 batch_id=937: 100%|████████████████████████████████████████| 938/938 [00:21<00:00, 43.80it/s]\n",
      "  0%|                                                                                          | 0/938 [00:00<?, ?it/s]"
     ]
    },
    {
     "name": "stdout",
     "output_type": "stream",
     "text": [
      "\n",
      "Test set: Average loss: 0.0322, Accuracy: 9904/10000 (99.04%)\n",
      "\n"
     ]
    },
    {
     "name": "stderr",
     "output_type": "stream",
     "text": [
      "loss=0.02390339970588684 batch_id=937: 100%|█████████████████████████████████████████| 938/938 [00:21<00:00, 43.37it/s]\n",
      "  0%|                                                                                          | 0/938 [00:00<?, ?it/s]"
     ]
    },
    {
     "name": "stdout",
     "output_type": "stream",
     "text": [
      "\n",
      "Test set: Average loss: 0.0327, Accuracy: 9901/10000 (99.01%)\n",
      "\n"
     ]
    },
    {
     "name": "stderr",
     "output_type": "stream",
     "text": [
      "loss=0.211739182472229 batch_id=937: 100%|███████████████████████████████████████████| 938/938 [00:22<00:00, 41.39it/s]\n",
      "  0%|                                                                                          | 0/938 [00:00<?, ?it/s]"
     ]
    },
    {
     "name": "stdout",
     "output_type": "stream",
     "text": [
      "\n",
      "Test set: Average loss: 0.0291, Accuracy: 9905/10000 (99.05%)\n",
      "\n"
     ]
    },
    {
     "name": "stderr",
     "output_type": "stream",
     "text": [
      "loss=0.01105603575706482 batch_id=937: 100%|█████████████████████████████████████████| 938/938 [00:24<00:00, 37.78it/s]\n",
      "  0%|                                                                                          | 0/938 [00:00<?, ?it/s]"
     ]
    },
    {
     "name": "stdout",
     "output_type": "stream",
     "text": [
      "\n",
      "Test set: Average loss: 0.0275, Accuracy: 9912/10000 (99.12%)\n",
      "\n"
     ]
    },
    {
     "name": "stderr",
     "output_type": "stream",
     "text": [
      "loss=0.007579028606414795 batch_id=937: 100%|████████████████████████████████████████| 938/938 [00:21<00:00, 44.18it/s]\n",
      "  0%|                                                                                          | 0/938 [00:00<?, ?it/s]"
     ]
    },
    {
     "name": "stdout",
     "output_type": "stream",
     "text": [
      "\n",
      "Test set: Average loss: 0.0260, Accuracy: 9915/10000 (99.15%)\n",
      "\n"
     ]
    },
    {
     "name": "stderr",
     "output_type": "stream",
     "text": [
      "loss=0.00437241792678833 batch_id=937: 100%|█████████████████████████████████████████| 938/938 [00:21<00:00, 43.92it/s]\n",
      "  0%|                                                                                          | 0/938 [00:00<?, ?it/s]"
     ]
    },
    {
     "name": "stdout",
     "output_type": "stream",
     "text": [
      "\n",
      "Test set: Average loss: 0.0263, Accuracy: 9911/10000 (99.11%)\n",
      "\n"
     ]
    },
    {
     "name": "stderr",
     "output_type": "stream",
     "text": [
      "loss=0.0912516713142395 batch_id=937: 100%|██████████████████████████████████████████| 938/938 [00:25<00:00, 36.15it/s]\n",
      "  0%|                                                                                          | 0/938 [00:00<?, ?it/s]"
     ]
    },
    {
     "name": "stdout",
     "output_type": "stream",
     "text": [
      "\n",
      "Test set: Average loss: 0.0239, Accuracy: 9927/10000 (99.27%)\n",
      "\n"
     ]
    },
    {
     "name": "stderr",
     "output_type": "stream",
     "text": [
      "loss=0.0026622414588928223 batch_id=937: 100%|███████████████████████████████████████| 938/938 [00:23<00:00, 40.50it/s]\n",
      "  0%|                                                                                          | 0/938 [00:00<?, ?it/s]"
     ]
    },
    {
     "name": "stdout",
     "output_type": "stream",
     "text": [
      "\n",
      "Test set: Average loss: 0.0238, Accuracy: 9919/10000 (99.19%)\n",
      "\n"
     ]
    },
    {
     "name": "stderr",
     "output_type": "stream",
     "text": [
      "loss=0.003064751625061035 batch_id=937: 100%|████████████████████████████████████████| 938/938 [00:21<00:00, 43.83it/s]\n",
      "  0%|                                                                                          | 0/938 [00:00<?, ?it/s]"
     ]
    },
    {
     "name": "stdout",
     "output_type": "stream",
     "text": [
      "\n",
      "Test set: Average loss: 0.0228, Accuracy: 9939/10000 (99.39%)\n",
      "\n"
     ]
    },
    {
     "name": "stderr",
     "output_type": "stream",
     "text": [
      "loss=0.03089103102684021 batch_id=937: 100%|█████████████████████████████████████████| 938/938 [00:21<00:00, 43.44it/s]\n",
      "  0%|                                                                                          | 0/938 [00:00<?, ?it/s]"
     ]
    },
    {
     "name": "stdout",
     "output_type": "stream",
     "text": [
      "\n",
      "Test set: Average loss: 0.0201, Accuracy: 9938/10000 (99.38%)\n",
      "\n"
     ]
    },
    {
     "name": "stderr",
     "output_type": "stream",
     "text": [
      "loss=0.3605878949165344 batch_id=937: 100%|██████████████████████████████████████████| 938/938 [00:25<00:00, 37.30it/s]\n",
      "  0%|                                                                                          | 0/938 [00:00<?, ?it/s]"
     ]
    },
    {
     "name": "stdout",
     "output_type": "stream",
     "text": [
      "\n",
      "Test set: Average loss: 0.0232, Accuracy: 9923/10000 (99.23%)\n",
      "\n"
     ]
    },
    {
     "name": "stderr",
     "output_type": "stream",
     "text": [
      "loss=0.2893340289592743 batch_id=937: 100%|██████████████████████████████████████████| 938/938 [00:23<00:00, 39.35it/s]\n",
      "  0%|                                                                                          | 0/938 [00:00<?, ?it/s]"
     ]
    },
    {
     "name": "stdout",
     "output_type": "stream",
     "text": [
      "\n",
      "Test set: Average loss: 0.0219, Accuracy: 9924/10000 (99.24%)\n",
      "\n"
     ]
    },
    {
     "name": "stderr",
     "output_type": "stream",
     "text": [
      "loss=0.016134142875671387 batch_id=937: 100%|████████████████████████████████████████| 938/938 [00:21<00:00, 43.67it/s]\n",
      "  0%|                                                                                          | 0/938 [00:00<?, ?it/s]"
     ]
    },
    {
     "name": "stdout",
     "output_type": "stream",
     "text": [
      "\n",
      "Test set: Average loss: 0.0201, Accuracy: 9941/10000 (99.41%)\n",
      "\n"
     ]
    },
    {
     "name": "stderr",
     "output_type": "stream",
     "text": [
      "loss=0.11315923929214478 batch_id=937: 100%|█████████████████████████████████████████| 938/938 [00:21<00:00, 43.93it/s]\n",
      "  0%|                                                                                          | 0/938 [00:00<?, ?it/s]"
     ]
    },
    {
     "name": "stdout",
     "output_type": "stream",
     "text": [
      "\n",
      "Test set: Average loss: 0.0200, Accuracy: 9938/10000 (99.38%)\n",
      "\n"
     ]
    },
    {
     "name": "stderr",
     "output_type": "stream",
     "text": [
      "loss=0.006482064723968506 batch_id=937: 100%|████████████████████████████████████████| 938/938 [00:23<00:00, 40.41it/s]\n",
      "  0%|                                                                                          | 0/938 [00:00<?, ?it/s]"
     ]
    },
    {
     "name": "stdout",
     "output_type": "stream",
     "text": [
      "\n",
      "Test set: Average loss: 0.0233, Accuracy: 9924/10000 (99.24%)\n",
      "\n"
     ]
    },
    {
     "name": "stderr",
     "output_type": "stream",
     "text": [
      "loss=0.0007203817367553711 batch_id=937: 100%|███████████████████████████████████████| 938/938 [00:24<00:00, 38.59it/s]\n",
      "  0%|                                                                                          | 0/938 [00:00<?, ?it/s]"
     ]
    },
    {
     "name": "stdout",
     "output_type": "stream",
     "text": [
      "\n",
      "Test set: Average loss: 0.0222, Accuracy: 9932/10000 (99.32%)\n",
      "\n"
     ]
    },
    {
     "name": "stderr",
     "output_type": "stream",
     "text": [
      "loss=0.12844759225845337 batch_id=937: 100%|█████████████████████████████████████████| 938/938 [00:21<00:00, 43.19it/s]\n"
     ]
    },
    {
     "name": "stdout",
     "output_type": "stream",
     "text": [
      "\n",
      "Test set: Average loss: 0.0191, Accuracy: 9940/10000 (99.40%)\n",
      "\n"
     ]
    }
   ],
   "source": [
    "\n",
    "model = Net().to(device)\n",
    "optimizer = optim.SGD(model.parameters(), lr=0.01, momentum=0.9)\n",
    "\n",
    "for epoch in range(1, 20):\n",
    "    train(model, device, train_loader, optimizer, epoch)\n",
    "    test(model, device, test_loader)"
   ]
  },
  {
   "cell_type": "markdown",
   "metadata": {
    "colab": {},
    "colab_type": "code",
    "id": "So5uk4EkHW6R"
   },
   "source": [
    " #  With dropout 0.15 and 0.2 got 99.4% accuracy\n",
    " # In the previous run with dropout 0.25 got 99.39% accuracy"
   ]
  },
  {
   "cell_type": "code",
   "execution_count": 221,
   "metadata": {
    "colab": {},
    "colab_type": "code",
    "id": "MMWbLWO6FuHb"
   },
   "outputs": [
    {
     "name": "stderr",
     "output_type": "stream",
     "text": [
      "  0%|                                                                                          | 0/938 [00:00<?, ?it/s]c:\\users\\nei3kor\\appdata\\local\\programs\\python\\python36\\lib\\site-packages\\ipykernel_launcher.py:40: UserWarning: Implicit dimension choice for log_softmax has been deprecated. Change the call to include dim=X as an argument.\n",
      "loss=0.021858930587768555 batch_id=937: 100%|████████████████████████████████████████| 938/938 [00:18<00:00, 50.34it/s]\n",
      "  0%|                                                                                          | 0/938 [00:00<?, ?it/s]"
     ]
    },
    {
     "name": "stdout",
     "output_type": "stream",
     "text": [
      "\n",
      "Test set: Average loss: 0.0576, Accuracy: 9827/10000 (98.27%)\n",
      "\n"
     ]
    },
    {
     "name": "stderr",
     "output_type": "stream",
     "text": [
      "loss=0.14409393072128296 batch_id=937: 100%|█████████████████████████████████████████| 938/938 [00:20<00:00, 46.22it/s]\n",
      "  0%|                                                                                          | 0/938 [00:00<?, ?it/s]"
     ]
    },
    {
     "name": "stdout",
     "output_type": "stream",
     "text": [
      "\n",
      "Test set: Average loss: 0.0358, Accuracy: 9892/10000 (98.92%)\n",
      "\n"
     ]
    },
    {
     "name": "stderr",
     "output_type": "stream",
     "text": [
      "loss=0.08980032801628113 batch_id=937: 100%|█████████████████████████████████████████| 938/938 [00:21<00:00, 43.64it/s]\n",
      "  0%|                                                                                          | 0/938 [00:00<?, ?it/s]"
     ]
    },
    {
     "name": "stdout",
     "output_type": "stream",
     "text": [
      "\n",
      "Test set: Average loss: 0.0320, Accuracy: 9896/10000 (98.96%)\n",
      "\n"
     ]
    },
    {
     "name": "stderr",
     "output_type": "stream",
     "text": [
      "loss=0.02458217740058899 batch_id=937: 100%|█████████████████████████████████████████| 938/938 [00:21<00:00, 43.23it/s]\n",
      "  0%|                                                                                          | 0/938 [00:00<?, ?it/s]"
     ]
    },
    {
     "name": "stdout",
     "output_type": "stream",
     "text": [
      "\n",
      "Test set: Average loss: 0.0360, Accuracy: 9887/10000 (98.87%)\n",
      "\n"
     ]
    },
    {
     "name": "stderr",
     "output_type": "stream",
     "text": [
      "loss=0.1955663114786148 batch_id=937: 100%|██████████████████████████████████████████| 938/938 [00:21<00:00, 43.22it/s]\n",
      "  0%|                                                                                          | 0/938 [00:00<?, ?it/s]"
     ]
    },
    {
     "name": "stdout",
     "output_type": "stream",
     "text": [
      "\n",
      "Test set: Average loss: 0.0320, Accuracy: 9908/10000 (99.08%)\n",
      "\n"
     ]
    },
    {
     "name": "stderr",
     "output_type": "stream",
     "text": [
      "loss=0.007014095783233643 batch_id=937: 100%|████████████████████████████████████████| 938/938 [00:21<00:00, 43.39it/s]\n",
      "  0%|                                                                                          | 0/938 [00:00<?, ?it/s]"
     ]
    },
    {
     "name": "stdout",
     "output_type": "stream",
     "text": [
      "\n",
      "Test set: Average loss: 0.0279, Accuracy: 9903/10000 (99.03%)\n",
      "\n"
     ]
    },
    {
     "name": "stderr",
     "output_type": "stream",
     "text": [
      "loss=0.02099616825580597 batch_id=937: 100%|█████████████████████████████████████████| 938/938 [00:21<00:00, 42.80it/s]\n",
      "  0%|                                                                                          | 0/938 [00:00<?, ?it/s]"
     ]
    },
    {
     "name": "stdout",
     "output_type": "stream",
     "text": [
      "\n",
      "Test set: Average loss: 0.0289, Accuracy: 9917/10000 (99.17%)\n",
      "\n"
     ]
    },
    {
     "name": "stderr",
     "output_type": "stream",
     "text": [
      "loss=0.009176105260848999 batch_id=937: 100%|████████████████████████████████████████| 938/938 [00:21<00:00, 43.01it/s]\n",
      "  0%|                                                                                          | 0/938 [00:00<?, ?it/s]"
     ]
    },
    {
     "name": "stdout",
     "output_type": "stream",
     "text": [
      "\n",
      "Test set: Average loss: 0.0251, Accuracy: 9929/10000 (99.29%)\n",
      "\n"
     ]
    },
    {
     "name": "stderr",
     "output_type": "stream",
     "text": [
      "loss=0.05138525366783142 batch_id=937: 100%|█████████████████████████████████████████| 938/938 [00:22<00:00, 42.29it/s]\n",
      "  0%|                                                                                          | 0/938 [00:00<?, ?it/s]"
     ]
    },
    {
     "name": "stdout",
     "output_type": "stream",
     "text": [
      "\n",
      "Test set: Average loss: 0.0228, Accuracy: 9932/10000 (99.32%)\n",
      "\n"
     ]
    },
    {
     "name": "stderr",
     "output_type": "stream",
     "text": [
      "loss=0.015027046203613281 batch_id=937: 100%|████████████████████████████████████████| 938/938 [00:21<00:00, 43.68it/s]\n",
      "  0%|                                                                                          | 0/938 [00:00<?, ?it/s]"
     ]
    },
    {
     "name": "stdout",
     "output_type": "stream",
     "text": [
      "\n",
      "Test set: Average loss: 0.0243, Accuracy: 9925/10000 (99.25%)\n",
      "\n"
     ]
    },
    {
     "name": "stderr",
     "output_type": "stream",
     "text": [
      "loss=0.006915181875228882 batch_id=937: 100%|████████████████████████████████████████| 938/938 [00:24<00:00, 38.27it/s]\n",
      "  0%|                                                                                          | 0/938 [00:00<?, ?it/s]"
     ]
    },
    {
     "name": "stdout",
     "output_type": "stream",
     "text": [
      "\n",
      "Test set: Average loss: 0.0231, Accuracy: 9928/10000 (99.28%)\n",
      "\n"
     ]
    },
    {
     "name": "stderr",
     "output_type": "stream",
     "text": [
      "loss=0.022387921810150146 batch_id=937: 100%|████████████████████████████████████████| 938/938 [00:21<00:00, 43.49it/s]\n",
      "  0%|                                                                                          | 0/938 [00:00<?, ?it/s]"
     ]
    },
    {
     "name": "stdout",
     "output_type": "stream",
     "text": [
      "\n",
      "Test set: Average loss: 0.0211, Accuracy: 9943/10000 (99.43%)\n",
      "\n"
     ]
    },
    {
     "name": "stderr",
     "output_type": "stream",
     "text": [
      "loss=0.24990184605121613 batch_id=937: 100%|█████████████████████████████████████████| 938/938 [00:21<00:00, 44.04it/s]\n",
      "  0%|                                                                                          | 0/938 [00:00<?, ?it/s]"
     ]
    },
    {
     "name": "stdout",
     "output_type": "stream",
     "text": [
      "\n",
      "Test set: Average loss: 0.0221, Accuracy: 9930/10000 (99.30%)\n",
      "\n"
     ]
    },
    {
     "name": "stderr",
     "output_type": "stream",
     "text": [
      "loss=0.12175199389457703 batch_id=937: 100%|█████████████████████████████████████████| 938/938 [00:21<00:00, 43.26it/s]\n",
      "  0%|                                                                                          | 0/938 [00:00<?, ?it/s]"
     ]
    },
    {
     "name": "stdout",
     "output_type": "stream",
     "text": [
      "\n",
      "Test set: Average loss: 0.0256, Accuracy: 9921/10000 (99.21%)\n",
      "\n"
     ]
    },
    {
     "name": "stderr",
     "output_type": "stream",
     "text": [
      "loss=0.017365247011184692 batch_id=937: 100%|████████████████████████████████████████| 938/938 [00:25<00:00, 36.34it/s]\n",
      "  0%|                                                                                          | 0/938 [00:00<?, ?it/s]"
     ]
    },
    {
     "name": "stdout",
     "output_type": "stream",
     "text": [
      "\n",
      "Test set: Average loss: 0.0242, Accuracy: 9929/10000 (99.29%)\n",
      "\n"
     ]
    },
    {
     "name": "stderr",
     "output_type": "stream",
     "text": [
      "loss=0.014443427324295044 batch_id=937: 100%|████████████████████████████████████████| 938/938 [00:21<00:00, 43.72it/s]\n",
      "  0%|                                                                                          | 0/938 [00:00<?, ?it/s]"
     ]
    },
    {
     "name": "stdout",
     "output_type": "stream",
     "text": [
      "\n",
      "Test set: Average loss: 0.0235, Accuracy: 9923/10000 (99.23%)\n",
      "\n"
     ]
    },
    {
     "name": "stderr",
     "output_type": "stream",
     "text": [
      "loss=0.0003402233123779297 batch_id=937: 100%|███████████████████████████████████████| 938/938 [00:21<00:00, 43.18it/s]\n",
      "  0%|                                                                                          | 0/938 [00:00<?, ?it/s]"
     ]
    },
    {
     "name": "stdout",
     "output_type": "stream",
     "text": [
      "\n",
      "Test set: Average loss: 0.0215, Accuracy: 9934/10000 (99.34%)\n",
      "\n"
     ]
    },
    {
     "name": "stderr",
     "output_type": "stream",
     "text": [
      "loss=0.0006896257400512695 batch_id=937: 100%|███████████████████████████████████████| 938/938 [00:21<00:00, 42.69it/s]\n",
      "  0%|                                                                                          | 0/938 [00:00<?, ?it/s]"
     ]
    },
    {
     "name": "stdout",
     "output_type": "stream",
     "text": [
      "\n",
      "Test set: Average loss: 0.0242, Accuracy: 9923/10000 (99.23%)\n",
      "\n"
     ]
    },
    {
     "name": "stderr",
     "output_type": "stream",
     "text": [
      "loss=0.04795098304748535 batch_id=937: 100%|█████████████████████████████████████████| 938/938 [00:25<00:00, 36.54it/s]\n"
     ]
    },
    {
     "name": "stdout",
     "output_type": "stream",
     "text": [
      "\n",
      "Test set: Average loss: 0.0207, Accuracy: 9939/10000 (99.39%)\n",
      "\n"
     ]
    }
   ],
   "source": [
    "\n",
    "model = Net().to(device)\n",
    "optimizer = optim.SGD(model.parameters(), lr=0.01, momentum=0.9)\n",
    "\n",
    "for epoch in range(1, 20):\n",
    "    train(model, device, train_loader, optimizer, epoch)\n",
    "    test(model, device, test_loader)"
   ]
  }
 ],
 "metadata": {
  "accelerator": "GPU",
  "colab": {
   "name": "EVA4 - Session 2.ipynb",
   "provenance": []
  },
  "kernelspec": {
   "display_name": "Python 3",
   "language": "python",
   "name": "python3"
  },
  "language_info": {
   "codemirror_mode": {
    "name": "ipython",
    "version": 3
   },
   "file_extension": ".py",
   "mimetype": "text/x-python",
   "name": "python",
   "nbconvert_exporter": "python",
   "pygments_lexer": "ipython3",
   "version": "3.6.8"
  }
 },
 "nbformat": 4,
 "nbformat_minor": 1
}
